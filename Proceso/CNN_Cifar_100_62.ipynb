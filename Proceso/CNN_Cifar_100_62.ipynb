{
  "cells": [
    {
      "cell_type": "code",
      "execution_count": 34,
      "metadata": {
        "colab": {
          "base_uri": "https://localhost:8080/",
          "height": 106
        },
        "id": "PhjnllPk9IyP",
        "outputId": "63cc6827-493b-4224-ac05-cf837b20096f"
      },
      "outputs": [
        {
          "ename": "SyntaxError",
          "evalue": "invalid decimal literal (<ipython-input-34-9677910edd01>, line 1)",
          "output_type": "error",
          "traceback": [
            "\u001b[0;36m  File \u001b[0;32m\"<ipython-input-34-9677910edd01>\"\u001b[0;36m, line \u001b[0;32m1\u001b[0m\n\u001b[0;31m    [link text](https://arxiv.org/pdf/1506.02158v6)\u001b[0m\n\u001b[0m                                               ^\u001b[0m\n\u001b[0;31mSyntaxError\u001b[0m\u001b[0;31m:\u001b[0m invalid decimal literal\n"
          ]
        }
      ],
      "source": [
        "[link text](https://arxiv.org/pdf/1506.02158v6)"
      ]
    },
    {
      "cell_type": "code",
      "execution_count": 35,
      "metadata": {
        "colab": {
          "base_uri": "https://localhost:8080/"
        },
        "id": "tjWy8qfk-J_c",
        "outputId": "0fa815bd-5ecb-4e15-836b-f7a0691d7fc9"
      },
      "outputs": [
        {
          "name": "stdout",
          "output_type": "stream",
          "text": [
            "Downloading itba-cifar-100-2024-q-1, 168426762 bytes compressed\n",
            "[==================================================] 168426762 bytes downloaded\n",
            "Downloaded and uncompressed: itba-cifar-100-2024-q-1\n",
            "Data source import complete.\n"
          ]
        }
      ],
      "source": [
        "# IMPORTANT: RUN THIS CELL IN ORDER TO IMPORT YOUR KAGGLE DATA SOURCES\n",
        "# TO THE CORRECT LOCATION (/kaggle/input) IN YOUR NOTEBOOK,\n",
        "# THEN FEEL FREE TO DELETE THIS CELL.\n",
        "# NOTE: THIS NOTEBOOK ENVIRONMENT DIFFERS FROM KAGGLE'S PYTHON\n",
        "# ENVIRONMENT SO THERE MAY BE MISSING LIBRARIES USED BY YOUR\n",
        "# NOTEBOOK.\n",
        "\n",
        "import os\n",
        "import sys\n",
        "from tempfile import NamedTemporaryFile\n",
        "from urllib.request import urlopen\n",
        "from urllib.parse import unquote, urlparse\n",
        "from urllib.error import HTTPError\n",
        "from zipfile import ZipFile\n",
        "import tarfile\n",
        "import shutil\n",
        "\n",
        "CHUNK_SIZE = 40960\n",
        "DATA_SOURCE_MAPPING = 'itba-cifar-100-2024-q-1:https%3A%2F%2Fstorage.googleapis.com%2Fkaggle-competitions-data%2Fkaggle-v2%2F77584%2F8490010%2Fbundle%2Farchive.zip%3FX-Goog-Algorithm%3DGOOG4-RSA-SHA256%26X-Goog-Credential%3Dgcp-kaggle-com%2540kaggle-161607.iam.gserviceaccount.com%252F20240623%252Fauto%252Fstorage%252Fgoog4_request%26X-Goog-Date%3D20240623T145828Z%26X-Goog-Expires%3D259200%26X-Goog-SignedHeaders%3Dhost%26X-Goog-Signature%3D5e590878a6fccc451d7f49eb5a16280dd314c45165eea77b6780d873f4d4bb0b47cdb3558b115111d316e4d64ee472d4f1882303682a89515809f06e70a052628703ce4194561b48c46db443199e14df1978b6ec8b85e02d8b51ad2a2e0aee68be302b45d021c98ba1b05612c8c15e97e828a45ad19c0d4c93729966aadedca2e34f6a80d5914cae7c34db031345f75e97e574faf2ea52cc19087380e0d48ed468d40881076983a9fbbdd68f4106730d688595da7bfa08a80257d6dc5aea692f300fa8b775903974ae132851152e8b14697134c74d6ee4312cc68173922bf5d304f01771627fad219708bc56585ffec61f21b630202e95376bd26c7fded8ce27'\n",
        "\n",
        "KAGGLE_INPUT_PATH='/kaggle/input'\n",
        "KAGGLE_WORKING_PATH='/kaggle/working'\n",
        "KAGGLE_SYMLINK='kaggle'\n",
        "\n",
        "!umount /kaggle/input/ 2> /dev/null\n",
        "shutil.rmtree('/kaggle/input', ignore_errors=True)\n",
        "os.makedirs(KAGGLE_INPUT_PATH, 0o777, exist_ok=True)\n",
        "os.makedirs(KAGGLE_WORKING_PATH, 0o777, exist_ok=True)\n",
        "\n",
        "try:\n",
        "  os.symlink(KAGGLE_INPUT_PATH, os.path.join(\"..\", 'input'), target_is_directory=True)\n",
        "except FileExistsError:\n",
        "  pass\n",
        "try:\n",
        "  os.symlink(KAGGLE_WORKING_PATH, os.path.join(\"..\", 'working'), target_is_directory=True)\n",
        "except FileExistsError:\n",
        "  pass\n",
        "\n",
        "for data_source_mapping in DATA_SOURCE_MAPPING.split(','):\n",
        "    directory, download_url_encoded = data_source_mapping.split(':')\n",
        "    download_url = unquote(download_url_encoded)\n",
        "    filename = urlparse(download_url).path\n",
        "    destination_path = os.path.join(KAGGLE_INPUT_PATH, directory)\n",
        "    try:\n",
        "        with urlopen(download_url) as fileres, NamedTemporaryFile() as tfile:\n",
        "            total_length = fileres.headers['content-length']\n",
        "            print(f'Downloading {directory}, {total_length} bytes compressed')\n",
        "            dl = 0\n",
        "            data = fileres.read(CHUNK_SIZE)\n",
        "            while len(data) > 0:\n",
        "                dl += len(data)\n",
        "                tfile.write(data)\n",
        "                done = int(50 * dl / int(total_length))\n",
        "                sys.stdout.write(f\"\\r[{'=' * done}{' ' * (50-done)}] {dl} bytes downloaded\")\n",
        "                sys.stdout.flush()\n",
        "                data = fileres.read(CHUNK_SIZE)\n",
        "            if filename.endswith('.zip'):\n",
        "              with ZipFile(tfile) as zfile:\n",
        "                zfile.extractall(destination_path)\n",
        "            else:\n",
        "              with tarfile.open(tfile.name) as tarfile:\n",
        "                tarfile.extractall(destination_path)\n",
        "            print(f'\\nDownloaded and uncompressed: {directory}')\n",
        "    except HTTPError as e:\n",
        "        print(f'Failed to load (likely expired) {download_url} to path {destination_path}')\n",
        "        continue\n",
        "    except OSError as e:\n",
        "        print(f'Failed to load {download_url} to path {destination_path}')\n",
        "        continue\n",
        "\n",
        "print('Data source import complete.')\n",
        "\n"
      ]
    },
    {
      "cell_type": "code",
      "execution_count": 36,
      "metadata": {
        "_cell_guid": "b1076dfc-b9ad-4769-8c92-a6c4dae69d19",
        "_uuid": "8f2839f25d086af736a60e9eeb907d3b93b6e0e5",
        "colab": {
          "base_uri": "https://localhost:8080/"
        },
        "execution": {
          "iopub.execute_input": "2024-05-30T19:23:13.062643Z",
          "iopub.status.busy": "2024-05-30T19:23:13.062167Z",
          "iopub.status.idle": "2024-05-30T19:23:14.366489Z",
          "shell.execute_reply": "2024-05-30T19:23:14.365275Z",
          "shell.execute_reply.started": "2024-05-30T19:23:13.062601Z"
        },
        "id": "h_2uUmRI-J_e",
        "outputId": "4f4f6cec-33c5-4d0b-e462-cfb13c36a472",
        "trusted": true
      },
      "outputs": [
        {
          "name": "stdout",
          "output_type": "stream",
          "text": [
            "/kaggle/input/itba-cifar-100-2024-q-1/x_train.npy\n",
            "/kaggle/input/itba-cifar-100-2024-q-1/fine_label_names.pck\n",
            "/kaggle/input/itba-cifar-100-2024-q-1/y_train_coarse.npy\n",
            "/kaggle/input/itba-cifar-100-2024-q-1/y_train_fine.npy\n",
            "/kaggle/input/itba-cifar-100-2024-q-1/coarse_label_names.pck\n",
            "/kaggle/input/itba-cifar-100-2024-q-1/x_test.npy\n"
          ]
        }
      ],
      "source": [
        "# This Python 3 environment comes with many helpful analytics libraries installed\n",
        "# It is defined by the kaggle/python Docker image: https://github.com/kaggle/docker-python\n",
        "# For example, here's several helpful packages to load\n",
        "\n",
        "import numpy as np # linear algebra\n",
        "import pandas as pd # data processing, CSV file I/O (e.g. pd.read_csv)\n",
        "\n",
        "# Input data files are available in the read-only \"../input/\" directory\n",
        "# For example, running this (by clicking run or pressing Shift+Enter) will list all files under the input directory\n",
        "\n",
        "import os\n",
        "for dirname, _, filenames in os.walk('/kaggle/input'):\n",
        "    for filename in filenames:\n",
        "        print(os.path.join(dirname, filename))\n",
        "\n",
        "# You can write up to 20GB to the current directory (/kaggle/working/) that gets preserved as output when you create a version using \"Save & Run All\"\n",
        "# You can also write temporary files to /kaggle/temp/, but they won't be saved outside of the current session"
      ]
    },
    {
      "cell_type": "code",
      "execution_count": 37,
      "metadata": {
        "colab": {
          "base_uri": "https://localhost:8080/"
        },
        "execution": {
          "iopub.execute_input": "2024-05-30T19:23:18.048523Z",
          "iopub.status.busy": "2024-05-30T19:23:18.048058Z",
          "iopub.status.idle": "2024-05-30T19:23:21.449212Z",
          "shell.execute_reply": "2024-05-30T19:23:21.447652Z",
          "shell.execute_reply.started": "2024-05-30T19:23:18.048488Z"
        },
        "id": "otkl4jz1-J_f",
        "outputId": "7e6d8a37-7d16-4a6f-bf81-6146f39d9e13",
        "trusted": true
      },
      "outputs": [
        {
          "name": "stdout",
          "output_type": "stream",
          "text": [
            "[11 15  4 ...  8  7  1]\n",
            "[19 29  0 ...  3  7 73]\n"
          ]
        }
      ],
      "source": [
        "x_train = np.load(\"/kaggle/input/itba-cifar-100-2024-q-1/x_train.npy\")/255.\n",
        "x_test = np.load(\"/kaggle/input/itba-cifar-100-2024-q-1/x_test.npy\")/255.\n",
        "y_train_coarse = np.load(\"/kaggle/input/itba-cifar-100-2024-q-1/y_train_coarse.npy\")\n",
        "y_train_fine = np.load(\"/kaggle/input/itba-cifar-100-2024-q-1/y_train_fine.npy\")\n",
        "print(y_train_coarse)\n",
        "print(y_train_fine)"
      ]
    },
    {
      "cell_type": "code",
      "execution_count": 38,
      "metadata": {
        "execution": {
          "iopub.execute_input": "2024-05-30T19:23:25.969132Z",
          "iopub.status.busy": "2024-05-30T19:23:25.968739Z",
          "iopub.status.idle": "2024-05-30T19:23:25.986815Z",
          "shell.execute_reply": "2024-05-30T19:23:25.985514Z",
          "shell.execute_reply.started": "2024-05-30T19:23:25.969085Z"
        },
        "id": "LerJM-pX-J_g",
        "trusted": true
      },
      "outputs": [],
      "source": [
        "import pickle\n",
        "with open(\"/kaggle/input/itba-cifar-100-2024-q-1/fine_label_names.pck\", \"rb\") as f:\n",
        "    labels_fine = pickle.load(f)\n",
        "with open(\"/kaggle/input/itba-cifar-100-2024-q-1/coarse_label_names.pck\", \"rb\") as f:\n",
        "    labels_coarse = pickle.load(f)"
      ]
    },
    {
      "cell_type": "code",
      "execution_count": 39,
      "metadata": {
        "execution": {
          "iopub.execute_input": "2024-05-30T19:23:29.156561Z",
          "iopub.status.busy": "2024-05-30T19:23:29.156174Z",
          "iopub.status.idle": "2024-05-30T19:23:29.162045Z",
          "shell.execute_reply": "2024-05-30T19:23:29.160776Z",
          "shell.execute_reply.started": "2024-05-30T19:23:29.156529Z"
        },
        "id": "22jwXqFc-J_g",
        "trusted": true
      },
      "outputs": [],
      "source": [
        "from matplotlib import pyplot as plt\n",
        "#%load_ext tensorboard"
      ]
    },
    {
      "cell_type": "code",
      "execution_count": 40,
      "metadata": {
        "colab": {
          "base_uri": "https://localhost:8080/",
          "height": 159
        },
        "execution": {
          "iopub.execute_input": "2024-05-30T19:23:31.135164Z",
          "iopub.status.busy": "2024-05-30T19:23:31.134762Z",
          "iopub.status.idle": "2024-05-30T19:23:31.300353Z",
          "shell.execute_reply": "2024-05-30T19:23:31.299181Z",
          "shell.execute_reply.started": "2024-05-30T19:23:31.13513Z"
        },
        "id": "TIXhXmVL-J_g",
        "outputId": "755c6cc4-ad1d-46ed-b147-5356bdc056ed",
        "trusted": true
      },
      "outputs": [
        {
          "name": "stdout",
          "output_type": "stream",
          "text": [
            "[19 29  0 ...  3  7 73]\n"
          ]
        },
        {
          "data": {
            "image/png": "[encoded data removed]",
            "text/plain": [
              "<Figure size 100x100 with 1 Axes>"
            ]
          },
          "metadata": {},
          "output_type": "display_data"
        }
      ],
      "source": [
        "plt.figure(figsize=(1,1))\n",
        "plt.imshow(x_train[0])\n",
        "\n",
        "print(y_train_fine)"
      ]
    },
    {
      "cell_type": "code",
      "execution_count": 41,
      "metadata": {
        "colab": {
          "base_uri": "https://localhost:8080/"
        },
        "execution": {
          "iopub.execute_input": "2024-05-30T19:23:34.397447Z",
          "iopub.status.busy": "2024-05-30T19:23:34.397027Z",
          "iopub.status.idle": "2024-05-30T19:23:34.405232Z",
          "shell.execute_reply": "2024-05-30T19:23:34.403988Z",
          "shell.execute_reply.started": "2024-05-30T19:23:34.397404Z"
        },
        "id": "yIVdsMa4-J_g",
        "outputId": "d112fbaa-ec00-4273-aff6-d9bb0da89f76",
        "trusted": true
      },
      "outputs": [
        {
          "data": {
            "text/plain": [
              "19"
            ]
          },
          "execution_count": 41,
          "metadata": {},
          "output_type": "execute_result"
        }
      ],
      "source": [
        "y_train_fine[0]"
      ]
    },
    {
      "cell_type": "code",
      "execution_count": 42,
      "metadata": {
        "colab": {
          "base_uri": "https://localhost:8080/",
          "height": 35
        },
        "execution": {
          "iopub.execute_input": "2024-05-30T19:23:37.255378Z",
          "iopub.status.busy": "2024-05-30T19:23:37.254004Z",
          "iopub.status.idle": "2024-05-30T19:23:37.262473Z",
          "shell.execute_reply": "2024-05-30T19:23:37.261151Z",
          "shell.execute_reply.started": "2024-05-30T19:23:37.255333Z"
        },
        "id": "01OqQ4EJ-J_h",
        "outputId": "857d2d66-e3e3-4b49-9b0e-f4589d7065ed",
        "trusted": true
      },
      "outputs": [
        {
          "data": {
            "application/vnd.google.colaboratory.intrinsic+json": {
              "type": "string"
            },
            "text/plain": [
              "'cattle'"
            ]
          },
          "execution_count": 42,
          "metadata": {},
          "output_type": "execute_result"
        }
      ],
      "source": [
        "labels_fine[19]"
      ]
    },
    {
      "cell_type": "markdown",
      "metadata": {
        "id": "xhWvxg8X-J_h"
      },
      "source": [
        "Cross validation\n"
      ]
    },
    {
      "cell_type": "code",
      "execution_count": 43,
      "metadata": {
        "execution": {
          "iopub.execute_input": "2024-05-30T19:23:41.881405Z",
          "iopub.status.busy": "2024-05-30T19:23:41.880996Z",
          "iopub.status.idle": "2024-05-30T19:23:43.837972Z",
          "shell.execute_reply": "2024-05-30T19:23:43.836053Z",
          "shell.execute_reply.started": "2024-05-30T19:23:41.881372Z"
        },
        "id": "i3kg9C6a-J_i",
        "trusted": true
      },
      "outputs": [],
      "source": [
        "from sklearn.model_selection import train_test_split\n",
        "X_train, X_train_cv, y_train, y_train_cv = train_test_split(np.load(\"/kaggle/input/itba-cifar-100-2024-q-1/x_train.npy\")/255.,\n",
        "                                                    y_train_fine, test_size=0.2, random_state=42)"
      ]
    },
    {
      "cell_type": "code",
      "execution_count": 44,
      "metadata": {
        "colab": {
          "base_uri": "https://localhost:8080/"
        },
        "execution": {
          "iopub.execute_input": "2024-05-30T19:23:46.420467Z",
          "iopub.status.busy": "2024-05-30T19:23:46.419208Z",
          "iopub.status.idle": "2024-05-30T19:23:46.427055Z",
          "shell.execute_reply": "2024-05-30T19:23:46.425717Z",
          "shell.execute_reply.started": "2024-05-30T19:23:46.420417Z"
        },
        "id": "ylMh7mzW-J_i",
        "outputId": "534fc214-e346-45a2-b4b8-da34d62a202d",
        "trusted": true
      },
      "outputs": [
        {
          "name": "stdout",
          "output_type": "stream",
          "text": [
            "40000\n",
            "10000\n",
            "40000\n",
            "10000\n"
          ]
        }
      ],
      "source": [
        "print(len(X_train))\n",
        "print(len(X_train_cv))\n",
        "print(len(y_train))\n",
        "print(len(y_train_cv))"
      ]
    },
    {
      "cell_type": "code",
      "execution_count": 107,
      "metadata": {
        "execution": {
          "iopub.execute_input": "2024-05-30T19:24:09.108777Z",
          "iopub.status.busy": "2024-05-30T19:24:09.108357Z",
          "iopub.status.idle": "2024-05-30T19:24:09.527061Z",
          "shell.execute_reply": "2024-05-30T19:24:09.525822Z",
          "shell.execute_reply.started": "2024-05-30T19:24:09.108735Z"
        },
        "id": "nP_j9381-J_j",
        "trusted": true
      },
      "outputs": [],
      "source": [
        "#Se requiere extender el dataset, se utiliza un generator donde se rotan las imagnes y se obtiene\n",
        "from tensorflow.keras.preprocessing.image import ImageDataGenerator\n",
        "datagen = ImageDataGenerator(\n",
        "    rotation_range=24,\n",
        "    horizontal_flip=True,\n",
        "    zoom_range=0.2,\n",
        "    shear_range=0.4\n",
        ")\n",
        "datagen.fit(X_train)\n"
      ]
    },
    {
      "cell_type": "markdown",
      "metadata": {
        "id": "MLGo89LF-J_j"
      },
      "source": []
    },
    {
      "cell_type": "code",
      "execution_count": 108,
      "metadata": {
        "execution": {
          "iopub.execute_input": "2024-05-30T19:24:17.096012Z",
          "iopub.status.busy": "2024-05-30T19:24:17.095523Z",
          "iopub.status.idle": "2024-05-30T19:24:17.103283Z",
          "shell.execute_reply": "2024-05-30T19:24:17.101866Z",
          "shell.execute_reply.started": "2024-05-30T19:24:17.095979Z"
        },
        "id": "uqEqnUQn-J_j",
        "trusted": true
      },
      "outputs": [],
      "source": [
        "from tensorflow.keras.models import Sequential\n",
        "from tensorflow.keras.layers import Dense, Dropout, BatchNormalization, Flatten, Conv2D, MaxPooling2D\n",
        "from tensorflow.keras.optimizers import SGD, Adam, RMSprop\n",
        "from tensorflow.keras.regularizers import l1, l2\n",
        "from tensorflow.keras.constraints import MaxNorm\n",
        "from tensorflow.keras.callbacks import ReduceLROnPlateau, EarlyStopping, ModelCheckpoint, TensorBoard\n",
        "from tensorflow.keras.initializers import GlorotNormal, GlorotUniform, RandomNormal, Constant\n",
        "from  tensorflow.keras.optimizers.schedules import InverseTimeDecay"
      ]
    },
    {
      "cell_type": "code",
      "execution_count": 109,
      "metadata": {
        "execution": {
          "iopub.execute_input": "2024-05-29T13:53:45.318058Z",
          "iopub.status.busy": "2024-05-29T13:53:45.316684Z",
          "iopub.status.idle": "2024-05-29T13:53:45.32258Z",
          "shell.execute_reply": "2024-05-29T13:53:45.321404Z",
          "shell.execute_reply.started": "2024-05-29T13:53:45.318018Z"
        },
        "id": "t4vooy4e-J_j",
        "trusted": true
      },
      "outputs": [],
      "source": [
        "#X_train_flip.shape\n",
        "#plt.figure(figsize=(1,1))\n",
        "#plt.imshow(x_train[50000])"
      ]
    },
    {
      "cell_type": "code",
      "execution_count": 110,
      "metadata": {
        "id": "vb3lQFJEqdPD"
      },
      "outputs": [],
      "source": [
        "lr_schedule =InverseTimeDecay(\n",
        "    0.001,\n",
        "    decay_steps=1875*100,\n",
        "    decay_rate=5,\n",
        "    staircase=False\n",
        ")"
      ]
    },
    {
      "cell_type": "code",
      "execution_count": 111,
      "metadata": {
        "colab": {
          "base_uri": "https://localhost:8080/"
        },
        "execution": {
          "iopub.execute_input": "2024-05-30T19:25:09.915854Z",
          "iopub.status.busy": "2024-05-30T19:25:09.915399Z",
          "iopub.status.idle": "2024-05-30T19:25:10.211851Z",
          "shell.execute_reply": "2024-05-30T19:25:10.210465Z",
          "shell.execute_reply.started": "2024-05-30T19:25:09.91582Z"
        },
        "id": "RaUhwY5f-J_j",
        "outputId": "d64f2dd8-04c6-4992-92c7-8d0728741e64",
        "trusted": true
      },
      "outputs": [
        {
          "name": "stderr",
          "output_type": "stream",
          "text": [
            "/usr/local/lib/python3.10/dist-packages/keras/src/initializers/initializers.py:120: UserWarning: The initializer GlorotUniform is unseeded and being called multiple times, which will return identical values each time (even if the initializer is unseeded). Please update your code to provide a seed to the initializer, or avoid using the same initializer instance more than once.\n",
            "  warnings.warn(\n"
          ]
        }
      ],
      "source": [
        "model = Sequential()\n",
        "#Kernel initialiazer\n",
        "initializer = GlorotUniform()\n",
        "#First convolution\n",
        "model.add(Conv2D(128, kernel_size= (3, 3) , input_shape=(32,32,3), activation = 'swish', padding= 'same'))\n",
        "model.add(BatchNormalization())\n",
        "model.add(Conv2D(128, kernel_size= (3, 3) , input_shape=(32,32,3), activation = 'swish', padding= 'same'))\n",
        "model.add(MaxPooling2D((2, 2)))\n",
        "\n",
        "\n",
        "#Second convolution\n",
        "model.add(Conv2D(256, kernel_size= (3, 3) , input_shape=(32,32,3), activation = 'swish', padding= 'same'))\n",
        "# model.add(Dropout(0.2)) #Agregado\n",
        "model.add(Conv2D(256, kernel_size= (3, 3) , input_shape=(32,32,3), activation = 'swish', padding= 'same'))\n",
        "model.add(BatchNormalization())#Agregado\n",
        "model.add(MaxPooling2D((2, 2)))\n",
        "\n",
        "\n",
        "#Third convolution\n",
        "model.add(Conv2D(512, kernel_size= (3, 3) , input_shape=(32,32,3), activation = 'swish', padding= 'same'))\n",
        "#model.add(Dropout(0.2)) #Agregado\n",
        "model.add(Conv2D(512, kernel_size= (3, 3) , input_shape=(32,32,3), activation = 'swish', padding= 'same'))\n",
        "model.add(BatchNormalization())#Agregado\n",
        "model.add(MaxPooling2D((2, 2)))\n",
        "\n",
        "\n",
        "model.add(Flatten(input_shape=(32,32,3)))\n",
        "\n",
        "#First layer\n",
        "model.add(Dense(1024, activation=\"swish\", kernel_initializer = initializer))\n",
        "model.add(Dropout(0.2))\n",
        "#model.add(BatchNormalization())\n",
        "\n",
        "\n",
        "#second layer\n",
        "model.add(Dense(512, activation=\"swish\", kernel_initializer = initializer))\n",
        "#model.add(Dropout(0.25))\n",
        "model.add(BatchNormalization())\n",
        "\n",
        "#thrid layer\n",
        "model.add(Dense(256, activation=\"swish\", kernel_initializer = initializer))\n",
        "model.add(Dropout(0.2))\n",
        "#model.add(BatchNormalization())\n",
        "\n",
        "#fourth layer\n",
        "model.add(Dense(100, activation=\"softmax\",kernel_initializer = initializer))\n",
        "\n",
        "model.compile(loss=\"sparse_categorical_crossentropy\", metrics = [\"accuracy\"], optimizer = Adam(learning_rate=0.001))"
      ]
    },
    {
      "cell_type": "code",
      "execution_count": 112,
      "metadata": {
        "execution": {
          "iopub.execute_input": "2024-05-30T19:25:13.619355Z",
          "iopub.status.busy": "2024-05-30T19:25:13.618882Z",
          "iopub.status.idle": "2024-05-30T19:25:13.625817Z",
          "shell.execute_reply": "2024-05-30T19:25:13.624501Z",
          "shell.execute_reply.started": "2024-05-30T19:25:13.619314Z"
        },
        "id": "zC_8PqkR-J_k",
        "trusted": true
      },
      "outputs": [],
      "source": [
        "# lr_schedule =InverseTimeDecay(\n",
        "#     0.001,\n",
        "#     decay_steps=1875*100,\n",
        "#     decay_rate=5,\n",
        "#     staircase=False\n",
        "# )\n",
        "\n",
        "\n",
        "\n",
        "rlrop = ReduceLROnPlateau(\n",
        "    monitor = \"val_accuracy\",\n",
        "    factor = 0.25,\n",
        "    patience = 3,\n",
        "    verbose = 1,\n",
        "    min_lr = 0.5e-5\n",
        ")"
      ]
    },
    {
      "cell_type": "code",
      "execution_count": 113,
      "metadata": {
        "colab": {
          "base_uri": "https://localhost:8080/"
        },
        "execution": {
          "iopub.execute_input": "2024-05-30T19:25:15.647036Z",
          "iopub.status.busy": "2024-05-30T19:25:15.646626Z",
          "iopub.status.idle": "2024-05-30T19:25:15.687152Z",
          "shell.execute_reply": "2024-05-30T19:25:15.685874Z",
          "shell.execute_reply.started": "2024-05-30T19:25:15.647006Z"
        },
        "id": "5DlWH8ox-J_k",
        "outputId": "d9568a2d-c94e-4e0b-e0ab-4484368d78f2",
        "trusted": true
      },
      "outputs": [
        {
          "name": "stdout",
          "output_type": "stream",
          "text": [
            "Model: \"sequential_9\"\n",
            "_________________________________________________________________\n",
            " Layer (type)                Output Shape              Param #   \n",
            "=================================================================\n",
            " conv2d_64 (Conv2D)          (None, 32, 32, 128)       3584      \n",
            "                                                                 \n",
            " batch_normalization_52 (Ba  (None, 32, 32, 128)       512       \n",
            " tchNormalization)                                               \n",
            "                                                                 \n",
            " conv2d_65 (Conv2D)          (None, 32, 32, 128)       147584    \n",
            "                                                                 \n",
            " max_pooling2d_32 (MaxPooli  (None, 16, 16, 128)       0         \n",
            " ng2D)                                                           \n",
            "                                                                 \n",
            " conv2d_66 (Conv2D)          (None, 16, 16, 256)       295168    \n",
            "                                                                 \n",
            " conv2d_67 (Conv2D)          (None, 16, 16, 256)       590080    \n",
            "                                                                 \n",
            " batch_normalization_53 (Ba  (None, 16, 16, 256)       1024      \n",
            " tchNormalization)                                               \n",
            "                                                                 \n",
            " max_pooling2d_33 (MaxPooli  (None, 8, 8, 256)         0         \n",
            " ng2D)                                                           \n",
            "                                                                 \n",
            " conv2d_68 (Conv2D)          (None, 8, 8, 512)         1180160   \n",
            "                                                                 \n",
            " conv2d_69 (Conv2D)          (None, 8, 8, 512)         2359808   \n",
            "                                                                 \n",
            " batch_normalization_54 (Ba  (None, 8, 8, 512)         2048      \n",
            " tchNormalization)                                               \n",
            "                                                                 \n",
            " max_pooling2d_34 (MaxPooli  (None, 4, 4, 512)         0         \n",
            " ng2D)                                                           \n",
            "                                                                 \n",
            " flatten_9 (Flatten)         (None, 8192)              0         \n",
            "                                                                 \n",
            " dense_22 (Dense)            (None, 1024)              8389632   \n",
            "                                                                 \n",
            " dropout_27 (Dropout)        (None, 1024)              0         \n",
            "                                                                 \n",
            " dense_23 (Dense)            (None, 512)               524800    \n",
            "                                                                 \n",
            " batch_normalization_55 (Ba  (None, 512)               2048      \n",
            " tchNormalization)                                               \n",
            "                                                                 \n",
            " dense_24 (Dense)            (None, 256)               131328    \n",
            "                                                                 \n",
            " dropout_28 (Dropout)        (None, 256)               0         \n",
            "                                                                 \n",
            " dense_25 (Dense)            (None, 100)               25700     \n",
            "                                                                 \n",
            "=================================================================\n",
            "Total params: 13653476 (52.08 MB)\n",
            "Trainable params: 13650660 (52.07 MB)\n",
            "Non-trainable params: 2816 (11.00 KB)\n",
            "_________________________________________________________________\n"
          ]
        }
      ],
      "source": [
        "model.summary()"
      ]
    },
    {
      "cell_type": "code",
      "execution_count": 114,
      "metadata": {
        "execution": {
          "iopub.execute_input": "2024-05-30T19:25:18.776834Z",
          "iopub.status.busy": "2024-05-30T19:25:18.776424Z",
          "iopub.status.idle": "2024-05-30T19:25:18.782963Z",
          "shell.execute_reply": "2024-05-30T19:25:18.781592Z",
          "shell.execute_reply.started": "2024-05-30T19:25:18.776802Z"
        },
        "id": "D_UZWl2y-J_k",
        "trusted": true
      },
      "outputs": [],
      "source": [
        "mc = ModelCheckpoint(\n",
        "    \"best.weights.h5\",\n",
        "    monitor = \"val_accuracy\",\n",
        "    verbose = 1,\n",
        "    save_best_only = True,\n",
        "    save_weights_only = True,\n",
        ")"
      ]
    },
    {
      "cell_type": "code",
      "execution_count": 115,
      "metadata": {
        "execution": {
          "iopub.execute_input": "2024-05-30T19:25:22.630456Z",
          "iopub.status.busy": "2024-05-30T19:25:22.63003Z",
          "iopub.status.idle": "2024-05-30T19:25:22.636392Z",
          "shell.execute_reply": "2024-05-30T19:25:22.635152Z",
          "shell.execute_reply.started": "2024-05-30T19:25:22.630425Z"
        },
        "id": "Va1dVh3C-J_k",
        "trusted": true
      },
      "outputs": [],
      "source": [
        "es = EarlyStopping(\n",
        "    monitor = \"val_accuracy\",\n",
        "    patience = 8,\n",
        "    verbose = 1,\n",
        "    restore_best_weights = True,\n",
        ")"
      ]
    },
    {
      "cell_type": "code",
      "execution_count": 116,
      "metadata": {
        "execution": {
          "iopub.execute_input": "2024-05-30T19:25:24.967807Z",
          "iopub.status.busy": "2024-05-30T19:25:24.967413Z",
          "iopub.status.idle": "2024-05-30T19:25:24.973315Z",
          "shell.execute_reply": "2024-05-30T19:25:24.972102Z",
          "shell.execute_reply.started": "2024-05-30T19:25:24.967774Z"
        },
        "id": "9CCdiswt-J_k",
        "trusted": true
      },
      "outputs": [],
      "source": [
        "tb = TensorBoard(\n",
        "    log_dir=\"logs\",\n",
        ")\n"
      ]
    },
    {
      "cell_type": "code",
      "execution_count": 117,
      "metadata": {
        "colab": {
          "base_uri": "https://localhost:8080/"
        },
        "execution": {
          "iopub.execute_input": "2024-05-30T19:25:27.859941Z",
          "iopub.status.busy": "2024-05-30T19:25:27.859419Z"
        },
        "id": "UBW6sqLJ-J_k",
        "outputId": "42f98da7-939a-4af8-c188-22e58fa630b9",
        "trusted": true
      },
      "outputs": [
        {
          "name": "stdout",
          "output_type": "stream",
          "text": [
            "Epoch 1/100\n",
            "625/625 [==============================] - ETA: 0s - loss: 4.0334 - accuracy: 0.0865\n",
            "Epoch 1: val_accuracy improved from -inf to 0.14050, saving model to best.weights.h5\n",
            "625/625 [==============================] - 51s 73ms/step - loss: 4.0334 - accuracy: 0.0865 - val_loss: 3.5973 - val_accuracy: 0.1405 - lr: 0.0010\n",
            "Epoch 2/100\n",
            "625/625 [==============================] - ETA: 0s - loss: 3.4048 - accuracy: 0.1788\n",
            "Epoch 2: val_accuracy improved from 0.14050 to 0.20230, saving model to best.weights.h5\n",
            "625/625 [==============================] - 43s 69ms/step - loss: 3.4048 - accuracy: 0.1788 - val_loss: 3.2555 - val_accuracy: 0.2023 - lr: 0.0010\n",
            "Epoch 3/100\n",
            "624/625 [============================>.] - ETA: 0s - loss: 3.0352 - accuracy: 0.2444\n",
            "Epoch 3: val_accuracy improved from 0.20230 to 0.26490, saving model to best.weights.h5\n",
            "625/625 [==============================] - 42s 67ms/step - loss: 3.0348 - accuracy: 0.2445 - val_loss: 2.9661 - val_accuracy: 0.2649 - lr: 0.0010\n",
            "Epoch 4/100\n",
            "625/625 [==============================] - ETA: 0s - loss: 2.7447 - accuracy: 0.3010\n",
            "Epoch 4: val_accuracy improved from 0.26490 to 0.33330, saving model to best.weights.h5\n",
            "625/625 [==============================] - 44s 70ms/step - loss: 2.7447 - accuracy: 0.3010 - val_loss: 2.5946 - val_accuracy: 0.3333 - lr: 0.0010\n",
            "Epoch 5/100\n",
            "624/625 [============================>.] - ETA: 0s - loss: 2.4896 - accuracy: 0.3549\n",
            "Epoch 5: val_accuracy improved from 0.33330 to 0.35860, saving model to best.weights.h5\n",
            "625/625 [==============================] - 47s 75ms/step - loss: 2.4892 - accuracy: 0.3550 - val_loss: 2.5182 - val_accuracy: 0.3586 - lr: 0.0010\n",
            "Epoch 6/100\n",
            "625/625 [==============================] - ETA: 0s - loss: 2.2704 - accuracy: 0.4026\n",
            "Epoch 6: val_accuracy improved from 0.35860 to 0.39500, saving model to best.weights.h5\n",
            "625/625 [==============================] - 49s 79ms/step - loss: 2.2704 - accuracy: 0.4026 - val_loss: 2.3089 - val_accuracy: 0.3950 - lr: 0.0010\n",
            "Epoch 7/100\n",
            "625/625 [==============================] - ETA: 0s - loss: 2.0996 - accuracy: 0.4360\n",
            "Epoch 7: val_accuracy did not improve from 0.39500\n",
            "625/625 [==============================] - 38s 60ms/step - loss: 2.0996 - accuracy: 0.4360 - val_loss: 2.7766 - val_accuracy: 0.3300 - lr: 0.0010\n",
            "Epoch 8/100\n",
            "625/625 [==============================] - ETA: 0s - loss: 1.9499 - accuracy: 0.4671\n",
            "Epoch 8: val_accuracy improved from 0.39500 to 0.47940, saving model to best.weights.h5\n",
            "625/625 [==============================] - 47s 75ms/step - loss: 1.9499 - accuracy: 0.4671 - val_loss: 1.9499 - val_accuracy: 0.4794 - lr: 0.0010\n",
            "Epoch 9/100\n",
            "625/625 [==============================] - ETA: 0s - loss: 1.8111 - accuracy: 0.5039\n",
            "Epoch 9: val_accuracy did not improve from 0.47940\n",
            "625/625 [==============================] - 36s 58ms/step - loss: 1.8111 - accuracy: 0.5039 - val_loss: 1.9406 - val_accuracy: 0.4790 - lr: 0.0010\n",
            "Epoch 10/100\n",
            "625/625 [==============================] - ETA: 0s - loss: 1.6992 - accuracy: 0.5301\n",
            "Epoch 10: val_accuracy did not improve from 0.47940\n",
            "625/625 [==============================] - 38s 60ms/step - loss: 1.6992 - accuracy: 0.5301 - val_loss: 2.0554 - val_accuracy: 0.4762 - lr: 0.0010\n",
            "Epoch 11/100\n",
            "625/625 [==============================] - ETA: 0s - loss: 1.5814 - accuracy: 0.5562\n",
            "Epoch 11: val_accuracy improved from 0.47940 to 0.50320, saving model to best.weights.h5\n",
            "625/625 [==============================] - 48s 77ms/step - loss: 1.5814 - accuracy: 0.5562 - val_loss: 1.8972 - val_accuracy: 0.5032 - lr: 0.0010\n",
            "Epoch 12/100\n",
            "624/625 [============================>.] - ETA: 0s - loss: 1.5007 - accuracy: 0.5791\n",
            "Epoch 12: val_accuracy improved from 0.50320 to 0.51990, saving model to best.weights.h5\n",
            "625/625 [==============================] - 56s 90ms/step - loss: 1.5006 - accuracy: 0.5792 - val_loss: 1.8456 - val_accuracy: 0.5199 - lr: 0.0010\n",
            "Epoch 13/100\n",
            "624/625 [============================>.] - ETA: 0s - loss: 1.3905 - accuracy: 0.6056\n",
            "Epoch 13: val_accuracy did not improve from 0.51990\n",
            "625/625 [==============================] - 39s 62ms/step - loss: 1.3902 - accuracy: 0.6058 - val_loss: 1.8958 - val_accuracy: 0.5083 - lr: 0.0010\n",
            "Epoch 14/100\n",
            "625/625 [==============================] - ETA: 0s - loss: 1.3139 - accuracy: 0.6210\n",
            "Epoch 14: val_accuracy improved from 0.51990 to 0.53290, saving model to best.weights.h5\n",
            "625/625 [==============================] - 51s 82ms/step - loss: 1.3139 - accuracy: 0.6210 - val_loss: 1.8094 - val_accuracy: 0.5329 - lr: 0.0010\n",
            "Epoch 15/100\n",
            "624/625 [============================>.] - ETA: 0s - loss: 1.2344 - accuracy: 0.6431\n",
            "Epoch 15: val_accuracy improved from 0.53290 to 0.54460, saving model to best.weights.h5\n",
            "625/625 [==============================] - 50s 81ms/step - loss: 1.2346 - accuracy: 0.6431 - val_loss: 1.7774 - val_accuracy: 0.5446 - lr: 0.0010\n",
            "Epoch 16/100\n",
            "625/625 [==============================] - ETA: 0s - loss: 1.1684 - accuracy: 0.6607\n",
            "Epoch 16: val_accuracy did not improve from 0.54460\n",
            "625/625 [==============================] - 37s 60ms/step - loss: 1.1684 - accuracy: 0.6607 - val_loss: 1.7870 - val_accuracy: 0.5438 - lr: 0.0010\n",
            "Epoch 17/100\n",
            "624/625 [============================>.] - ETA: 0s - loss: 1.1015 - accuracy: 0.6802\n",
            "Epoch 17: val_accuracy improved from 0.54460 to 0.54870, saving model to best.weights.h5\n",
            "625/625 [==============================] - 54s 86ms/step - loss: 1.1018 - accuracy: 0.6802 - val_loss: 1.7754 - val_accuracy: 0.5487 - lr: 0.0010\n",
            "Epoch 18/100\n",
            "625/625 [==============================] - ETA: 0s - loss: 1.0520 - accuracy: 0.6900\n",
            "Epoch 18: val_accuracy improved from 0.54870 to 0.55400, saving model to best.weights.h5\n",
            "625/625 [==============================] - 47s 76ms/step - loss: 1.0520 - accuracy: 0.6900 - val_loss: 1.8132 - val_accuracy: 0.5540 - lr: 0.0010\n",
            "Epoch 19/100\n",
            "624/625 [============================>.] - ETA: 0s - loss: 1.0061 - accuracy: 0.7040\n",
            "Epoch 19: val_accuracy did not improve from 0.55400\n",
            "625/625 [==============================] - 37s 60ms/step - loss: 1.0061 - accuracy: 0.7041 - val_loss: 1.7837 - val_accuracy: 0.5535 - lr: 0.0010\n",
            "Epoch 20/100\n",
            "625/625 [==============================] - ETA: 0s - loss: 0.9401 - accuracy: 0.7212\n",
            "Epoch 20: val_accuracy did not improve from 0.55400\n",
            "625/625 [==============================] - 38s 60ms/step - loss: 0.9401 - accuracy: 0.7212 - val_loss: 1.8744 - val_accuracy: 0.5455 - lr: 0.0010\n",
            "Epoch 21/100\n",
            "624/625 [============================>.] - ETA: 0s - loss: 0.8855 - accuracy: 0.7352\n",
            "Epoch 21: val_accuracy improved from 0.55400 to 0.55760, saving model to best.weights.h5\n",
            "625/625 [==============================] - 42s 67ms/step - loss: 0.8860 - accuracy: 0.7351 - val_loss: 1.9101 - val_accuracy: 0.5576 - lr: 0.0010\n",
            "Epoch 22/100\n",
            "625/625 [==============================] - ETA: 0s - loss: 0.8496 - accuracy: 0.7465\n",
            "Epoch 22: val_accuracy improved from 0.55760 to 0.57110, saving model to best.weights.h5\n",
            "625/625 [==============================] - 54s 86ms/step - loss: 0.8496 - accuracy: 0.7465 - val_loss: 1.7268 - val_accuracy: 0.5711 - lr: 0.0010\n",
            "Epoch 23/100\n",
            "625/625 [==============================] - ETA: 0s - loss: 0.8237 - accuracy: 0.7522\n",
            "Epoch 23: val_accuracy improved from 0.57110 to 0.57930, saving model to best.weights.h5\n",
            "625/625 [==============================] - 49s 79ms/step - loss: 0.8237 - accuracy: 0.7522 - val_loss: 1.7335 - val_accuracy: 0.5793 - lr: 0.0010\n",
            "Epoch 24/100\n",
            "625/625 [==============================] - ETA: 0s - loss: 0.7698 - accuracy: 0.7673\n",
            "Epoch 24: val_accuracy did not improve from 0.57930\n",
            "625/625 [==============================] - 38s 61ms/step - loss: 0.7698 - accuracy: 0.7673 - val_loss: 1.7878 - val_accuracy: 0.5701 - lr: 0.0010\n",
            "Epoch 25/100\n",
            "625/625 [==============================] - ETA: 0s - loss: 0.7329 - accuracy: 0.7781\n",
            "Epoch 25: val_accuracy did not improve from 0.57930\n",
            "625/625 [==============================] - 37s 59ms/step - loss: 0.7329 - accuracy: 0.7781 - val_loss: 1.9013 - val_accuracy: 0.5618 - lr: 0.0010\n",
            "Epoch 26/100\n",
            "625/625 [==============================] - ETA: 0s - loss: 0.7148 - accuracy: 0.7827\n",
            "Epoch 26: ReduceLROnPlateau reducing learning rate to 0.0002500000118743628.\n",
            "\n",
            "Epoch 26: val_accuracy did not improve from 0.57930\n",
            "625/625 [==============================] - 38s 60ms/step - loss: 0.7148 - accuracy: 0.7827 - val_loss: 1.8160 - val_accuracy: 0.5753 - lr: 0.0010\n",
            "Epoch 27/100\n",
            "625/625 [==============================] - ETA: 0s - loss: 0.5305 - accuracy: 0.8363\n",
            "Epoch 27: val_accuracy improved from 0.57930 to 0.60870, saving model to best.weights.h5\n",
            "625/625 [==============================] - 49s 79ms/step - loss: 0.5305 - accuracy: 0.8363 - val_loss: 1.7007 - val_accuracy: 0.6087 - lr: 2.5000e-04\n",
            "Epoch 28/100\n",
            "624/625 [============================>.] - ETA: 0s - loss: 0.4540 - accuracy: 0.8589\n",
            "Epoch 28: val_accuracy did not improve from 0.60870\n",
            "625/625 [==============================] - 37s 60ms/step - loss: 0.4541 - accuracy: 0.8588 - val_loss: 1.7420 - val_accuracy: 0.6058 - lr: 2.5000e-04\n",
            "Epoch 29/100\n",
            "624/625 [============================>.] - ETA: 0s - loss: 0.4291 - accuracy: 0.8675\n",
            "Epoch 29: val_accuracy improved from 0.60870 to 0.61480, saving model to best.weights.h5\n",
            "625/625 [==============================] - 57s 91ms/step - loss: 0.4292 - accuracy: 0.8676 - val_loss: 1.7288 - val_accuracy: 0.6148 - lr: 2.5000e-04\n",
            "Epoch 30/100\n",
            "624/625 [============================>.] - ETA: 0s - loss: 0.3943 - accuracy: 0.8775\n",
            "Epoch 30: val_accuracy did not improve from 0.61480\n",
            "625/625 [==============================] - 39s 62ms/step - loss: 0.3943 - accuracy: 0.8776 - val_loss: 1.7875 - val_accuracy: 0.6132 - lr: 2.5000e-04\n",
            "Epoch 31/100\n",
            "625/625 [==============================] - ETA: 0s - loss: 0.3793 - accuracy: 0.8826\n",
            "Epoch 31: val_accuracy did not improve from 0.61480\n",
            "625/625 [==============================] - 38s 60ms/step - loss: 0.3793 - accuracy: 0.8826 - val_loss: 1.8102 - val_accuracy: 0.6071 - lr: 2.5000e-04\n",
            "Epoch 32/100\n",
            "625/625 [==============================] - ETA: 0s - loss: 0.3591 - accuracy: 0.8838\n",
            "Epoch 32: ReduceLROnPlateau reducing learning rate to 6.25000029685907e-05.\n",
            "\n",
            "Epoch 32: val_accuracy did not improve from 0.61480\n",
            "625/625 [==============================] - 37s 59ms/step - loss: 0.3591 - accuracy: 0.8838 - val_loss: 1.8239 - val_accuracy: 0.6098 - lr: 2.5000e-04\n",
            "Epoch 33/100\n",
            "625/625 [==============================] - ETA: 0s - loss: 0.3186 - accuracy: 0.9005\n",
            "Epoch 33: val_accuracy improved from 0.61480 to 0.61580, saving model to best.weights.h5\n",
            "625/625 [==============================] - 43s 69ms/step - loss: 0.3186 - accuracy: 0.9005 - val_loss: 1.8032 - val_accuracy: 0.6158 - lr: 6.2500e-05\n",
            "Epoch 34/100\n",
            "624/625 [============================>.] - ETA: 0s - loss: 0.3129 - accuracy: 0.9020\n",
            "Epoch 34: val_accuracy improved from 0.61580 to 0.61850, saving model to best.weights.h5\n",
            "625/625 [==============================] - 54s 86ms/step - loss: 0.3127 - accuracy: 0.9021 - val_loss: 1.8031 - val_accuracy: 0.6185 - lr: 6.2500e-05\n",
            "Epoch 35/100\n",
            "625/625 [==============================] - ETA: 0s - loss: 0.2965 - accuracy: 0.9065\n",
            "Epoch 35: val_accuracy improved from 0.61850 to 0.62170, saving model to best.weights.h5\n",
            "625/625 [==============================] - 55s 88ms/step - loss: 0.2965 - accuracy: 0.9065 - val_loss: 1.7796 - val_accuracy: 0.6217 - lr: 6.2500e-05\n",
            "Epoch 36/100\n",
            "625/625 [==============================] - ETA: 0s - loss: 0.2879 - accuracy: 0.9088\n",
            "Epoch 36: val_accuracy did not improve from 0.62170\n",
            "625/625 [==============================] - 38s 61ms/step - loss: 0.2879 - accuracy: 0.9088 - val_loss: 1.8410 - val_accuracy: 0.6188 - lr: 6.2500e-05\n",
            "Epoch 37/100\n",
            "625/625 [==============================] - ETA: 0s - loss: 0.2860 - accuracy: 0.9094\n",
            "Epoch 37: val_accuracy did not improve from 0.62170\n",
            "625/625 [==============================] - 41s 65ms/step - loss: 0.2860 - accuracy: 0.9094 - val_loss: 1.8207 - val_accuracy: 0.6182 - lr: 6.2500e-05\n",
            "Epoch 38/100\n",
            "624/625 [============================>.] - ETA: 0s - loss: 0.2739 - accuracy: 0.9129\n",
            "Epoch 38: ReduceLROnPlateau reducing learning rate to 1.5625000742147677e-05.\n",
            "\n",
            "Epoch 38: val_accuracy did not improve from 0.62170\n",
            "625/625 [==============================] - 39s 62ms/step - loss: 0.2738 - accuracy: 0.9129 - val_loss: 1.8290 - val_accuracy: 0.6199 - lr: 6.2500e-05\n",
            "Epoch 39/100\n",
            "624/625 [============================>.] - ETA: 0s - loss: 0.2691 - accuracy: 0.9166\n",
            "Epoch 39: val_accuracy did not improve from 0.62170\n",
            "625/625 [==============================] - 39s 63ms/step - loss: 0.2692 - accuracy: 0.9166 - val_loss: 1.8220 - val_accuracy: 0.6184 - lr: 1.5625e-05\n",
            "Epoch 40/100\n",
            "624/625 [============================>.] - ETA: 0s - loss: 0.2698 - accuracy: 0.9159\n",
            "Epoch 40: val_accuracy did not improve from 0.62170\n",
            "625/625 [==============================] - 39s 62ms/step - loss: 0.2700 - accuracy: 0.9158 - val_loss: 1.8162 - val_accuracy: 0.6205 - lr: 1.5625e-05\n",
            "Epoch 41/100\n",
            "625/625 [==============================] - ETA: 0s - loss: 0.2666 - accuracy: 0.9154\n",
            "Epoch 41: ReduceLROnPlateau reducing learning rate to 5e-06.\n",
            "\n",
            "Epoch 41: val_accuracy did not improve from 0.62170\n",
            "625/625 [==============================] - 38s 61ms/step - loss: 0.2666 - accuracy: 0.9154 - val_loss: 1.8189 - val_accuracy: 0.6202 - lr: 1.5625e-05\n",
            "Epoch 42/100\n",
            "624/625 [============================>.] - ETA: 0s - loss: 0.2614 - accuracy: 0.9170\n",
            "Epoch 42: val_accuracy did not improve from 0.62170\n",
            "625/625 [==============================] - 38s 61ms/step - loss: 0.2614 - accuracy: 0.9169 - val_loss: 1.8247 - val_accuracy: 0.6209 - lr: 5.0000e-06\n",
            "Epoch 43/100\n",
            "624/625 [============================>.] - ETA: 0s - loss: 0.2569 - accuracy: 0.9188Restoring model weights from the end of the best epoch: 35.\n",
            "\n",
            "Epoch 43: val_accuracy did not improve from 0.62170\n",
            "625/625 [==============================] - 39s 62ms/step - loss: 0.2571 - accuracy: 0.9187 - val_loss: 1.8401 - val_accuracy: 0.6207 - lr: 5.0000e-06\n",
            "Epoch 43: early stopping\n"
          ]
        }
      ],
      "source": [
        "history = model.fit(\n",
        "#     x = X_train_flip,\n",
        "#     y= Y_train_fine_flip,\n",
        "    datagen.flow(X_train, y_train, batch_size=64),\n",
        "    batch_size=64,\n",
        "    epochs=100,\n",
        "    validation_data =(X_train_cv, y_train_cv),\n",
        "    callbacks= [\n",
        "        rlrop,\n",
        "        es,\n",
        "        mc,\n",
        "        tb,\n",
        "    ]\n",
        ")"
      ]
    },
    {
      "cell_type": "markdown",
      "metadata": {
        "id": "TO2vkDQZYU3n"
      },
      "source": []
    },
    {
      "cell_type": "code",
      "execution_count": 94,
      "metadata": {
        "colab": {
          "base_uri": "https://localhost:8080/",
          "height": 447
        },
        "execution": {
          "iopub.execute_input": "2024-05-29T15:51:36.396574Z",
          "iopub.status.busy": "2024-05-29T15:51:36.39618Z",
          "iopub.status.idle": "2024-05-29T15:51:36.700811Z",
          "shell.execute_reply": "2024-05-29T15:51:36.699652Z",
          "shell.execute_reply.started": "2024-05-29T15:51:36.396545Z"
        },
        "id": "WGkGvDBC-J_l",
        "outputId": "ced9444e-c584-4c90-ab08-1f7b186e4d21",
        "trusted": true
      },
      "outputs": [
        {
          "data": {
            "text/plain": [
              "[<matplotlib.lines.Line2D at 0x7e5a003af370>]"
            ]
          },
          "execution_count": 94,
          "metadata": {},
          "output_type": "execute_result"
        },
        {
          "data": {
            "image/png": "[encoded data removed]",
            "text/plain": [
              "<Figure size 640x480 with 1 Axes>"
            ]
          },
          "metadata": {},
          "output_type": "display_data"
        }
      ],
      "source": [
        "plt.plot(history.history[\"accuracy\"])\n",
        "plt.plot(history.history[\"val_accuracy\"])"
      ]
    },
    {
      "cell_type": "code",
      "execution_count": 100,
      "metadata": {
        "colab": {
          "base_uri": "https://localhost:8080/"
        },
        "execution": {
          "iopub.execute_input": "2024-05-29T15:51:42.962201Z",
          "iopub.status.busy": "2024-05-29T15:51:42.961783Z",
          "iopub.status.idle": "2024-05-29T15:51:45.595667Z",
          "shell.execute_reply": "2024-05-29T15:51:45.594346Z",
          "shell.execute_reply.started": "2024-05-29T15:51:42.962169Z"
        },
        "id": "kgarmLzS-J_l",
        "outputId": "2dc86462-85a0-45b7-8297-07435bbc4f2c",
        "trusted": true
      },
      "outputs": [
        {
          "name": "stdout",
          "output_type": "stream",
          "text": [
            "313/313 [==============================] - 3s 8ms/step\n"
          ]
        }
      ],
      "source": [
        "predictions = model.predict(x_test)\n",
        "\n",
        "#test_accuracy_prom=sum(np.array(predictions)==np.array(x_test[\\\"target\\\"]))/len(twenty_test[\\\"target\\\"])*100\\n))"
      ]
    },
    {
      "cell_type": "code",
      "execution_count": 101,
      "metadata": {
        "execution": {
          "iopub.execute_input": "2024-05-29T15:51:47.669411Z",
          "iopub.status.busy": "2024-05-29T15:51:47.668721Z",
          "iopub.status.idle": "2024-05-29T15:51:47.675124Z",
          "shell.execute_reply": "2024-05-29T15:51:47.673733Z",
          "shell.execute_reply.started": "2024-05-29T15:51:47.66938Z"
        },
        "id": "ezHJfD8J-J_l",
        "trusted": true
      },
      "outputs": [],
      "source": [
        "predictions = predictions.argmax(axis=1)"
      ]
    },
    {
      "cell_type": "code",
      "execution_count": 97,
      "metadata": {
        "colab": {
          "base_uri": "https://localhost:8080/"
        },
        "execution": {
          "iopub.execute_input": "2024-05-29T15:51:50.99665Z",
          "iopub.status.busy": "2024-05-29T15:51:50.995523Z",
          "iopub.status.idle": "2024-05-29T15:51:51.003904Z",
          "shell.execute_reply": "2024-05-29T15:51:51.002796Z",
          "shell.execute_reply.started": "2024-05-29T15:51:50.996582Z"
        },
        "id": "iKyrcBo8-J_l",
        "outputId": "8333f601-1b12-4397-b2ac-bb6e130e30f6",
        "trusted": true
      },
      "outputs": [
        {
          "data": {
            "text/plain": [
              "array([49, 33,  4, ..., 51, 42, 70])"
            ]
          },
          "execution_count": 97,
          "metadata": {},
          "output_type": "execute_result"
        }
      ],
      "source": [
        "predictions"
      ]
    },
    {
      "cell_type": "code",
      "execution_count": 103,
      "metadata": {
        "execution": {
          "iopub.execute_input": "2024-05-29T15:51:59.744286Z",
          "iopub.status.busy": "2024-05-29T15:51:59.743194Z",
          "iopub.status.idle": "2024-05-29T15:51:59.757474Z",
          "shell.execute_reply": "2024-05-29T15:51:59.756164Z",
          "shell.execute_reply.started": "2024-05-29T15:51:59.744246Z"
        },
        "id": "sEh0_e22-J_m",
        "trusted": true
      },
      "outputs": [],
      "source": [
        "df = pd.DataFrame(predictions, columns=[\"Label\"])"
      ]
    },
    {
      "cell_type": "code",
      "execution_count": 104,
      "metadata": {
        "execution": {
          "iopub.status.busy": "2024-05-29T13:52:41.340113Z",
          "iopub.status.idle": "2024-05-29T13:52:41.340673Z",
          "shell.execute_reply": "2024-05-29T13:52:41.340405Z",
          "shell.execute_reply.started": "2024-05-29T13:52:41.340382Z"
        },
        "id": "Qin8fPmj-J_m",
        "trusted": true
      },
      "outputs": [],
      "source": [
        "df.index.name = \"Id\""
      ]
    },
    {
      "cell_type": "code",
      "execution_count": 105,
      "metadata": {
        "colab": {
          "base_uri": "https://localhost:8080/",
          "height": 238
        },
        "execution": {
          "iopub.status.busy": "2024-05-29T13:52:41.342029Z",
          "iopub.status.idle": "2024-05-29T13:52:41.342918Z",
          "shell.execute_reply": "2024-05-29T13:52:41.342662Z",
          "shell.execute_reply.started": "2024-05-29T13:52:41.342639Z"
        },
        "id": "je1LospX-J_m",
        "outputId": "21ca5975-aad7-4a27-d813-75a1a6f20c85",
        "trusted": true
      },
      "outputs": [
        {
          "data": {
            "application/vnd.google.colaboratory.intrinsic+json": {
              "summary": "{\n  \"name\": \"df\",\n  \"rows\": 10000,\n  \"fields\": [\n    {\n      \"column\": \"Id\",\n      \"properties\": {\n        \"dtype\": \"number\",\n        \"std\": 2886,\n        \"min\": 0,\n        \"max\": 9999,\n        \"num_unique_values\": 10000,\n        \"samples\": [\n          6252,\n          4684,\n          1731\n        ],\n        \"semantic_type\": \"\",\n        \"description\": \"\"\n      }\n    },\n    {\n      \"column\": \"Label\",\n      \"properties\": {\n        \"dtype\": \"number\",\n        \"std\": 28,\n        \"min\": 0,\n        \"max\": 99,\n        \"num_unique_values\": 100,\n        \"samples\": [\n          28,\n          61,\n          3\n        ],\n        \"semantic_type\": \"\",\n        \"description\": \"\"\n      }\n    }\n  ]\n}",
              "type": "dataframe",
              "variable_name": "df"
            },
            "text/html": [
              "\n",
              "  <div id=\"df-d689db63-6431-432d-8f4d-842d67265a29\" class=\"colab-df-container\">\n",
              "    <div>\n",
              "<style scoped>\n",
              "    .dataframe tbody tr th:only-of-type {\n",
              "        vertical-align: middle;\n",
              "    }\n",
              "\n",
              "    .dataframe tbody tr th {\n",
              "        vertical-align: top;\n",
              "    }\n",
              "\n",
              "    .dataframe thead th {\n",
              "        text-align: right;\n",
              "    }\n",
              "</style>\n",
              "<table border=\"1\" class=\"dataframe\">\n",
              "  <thead>\n",
              "    <tr style=\"text-align: right;\">\n",
              "      <th></th>\n",
              "      <th>Label</th>\n",
              "    </tr>\n",
              "    <tr>\n",
              "      <th>Id</th>\n",
              "      <th></th>\n",
              "    </tr>\n",
              "  </thead>\n",
              "  <tbody>\n",
              "    <tr>\n",
              "      <th>0</th>\n",
              "      <td>49</td>\n",
              "    </tr>\n",
              "    <tr>\n",
              "      <th>1</th>\n",
              "      <td>33</td>\n",
              "    </tr>\n",
              "    <tr>\n",
              "      <th>2</th>\n",
              "      <td>4</td>\n",
              "    </tr>\n",
              "    <tr>\n",
              "      <th>3</th>\n",
              "      <td>51</td>\n",
              "    </tr>\n",
              "    <tr>\n",
              "      <th>4</th>\n",
              "      <td>71</td>\n",
              "    </tr>\n",
              "  </tbody>\n",
              "</table>\n",
              "</div>\n",
              "    <div class=\"colab-df-buttons\">\n",
              "\n",
              "  <div class=\"colab-df-container\">\n",
              "    <button class=\"colab-df-convert\" onclick=\"convertToInteractive('df-d689db63-6431-432d-8f4d-842d67265a29')\"\n",
              "            title=\"Convert this dataframe to an interactive table.\"\n",
              "            style=\"display:none;\">\n",
              "\n",
              "  <svg xmlns=\"http://www.w3.org/2000/svg\" height=\"24px\" viewBox=\"0 -960 960 960\">\n",
              "    <path d=\"M120-120v-720h720v720H120Zm60-500h600v-160H180v160Zm220 220h160v-160H400v160Zm0 220h160v-160H400v160ZM180-400h160v-160H180v160Zm440 0h160v-160H620v160ZM180-180h160v-160H180v160Zm440 0h160v-160H620v160Z\"/>\n",
              "  </svg>\n",
              "    </button>\n",
              "\n",
              "  <style>\n",
              "    .colab-df-container {\n",
              "      display:flex;\n",
              "      gap: 12px;\n",
              "    }\n",
              "\n",
              "    .colab-df-convert {\n",
              "      background-color: #E8F0FE;\n",
              "      border: none;\n",
              "      border-radius: 50%;\n",
              "      cursor: pointer;\n",
              "      display: none;\n",
              "      fill: #1967D2;\n",
              "      height: 32px;\n",
              "      padding: 0 0 0 0;\n",
              "      width: 32px;\n",
              "    }\n",
              "\n",
              "    .colab-df-convert:hover {\n",
              "      background-color: #E2EBFA;\n",
              "      box-shadow: 0px 1px 2px rgba(60, 64, 67, 0.3), 0px 1px 3px 1px rgba(60, 64, 67, 0.15);\n",
              "      fill: #174EA6;\n",
              "    }\n",
              "\n",
              "    .colab-df-buttons div {\n",
              "      margin-bottom: 4px;\n",
              "    }\n",
              "\n",
              "    [theme=dark] .colab-df-convert {\n",
              "      background-color: #3B4455;\n",
              "      fill: #D2E3FC;\n",
              "    }\n",
              "\n",
              "    [theme=dark] .colab-df-convert:hover {\n",
              "      background-color: #434B5C;\n",
              "      box-shadow: 0px 1px 3px 1px rgba(0, 0, 0, 0.15);\n",
              "      filter: drop-shadow(0px 1px 2px rgba(0, 0, 0, 0.3));\n",
              "      fill: #FFFFFF;\n",
              "    }\n",
              "  </style>\n",
              "\n",
              "    <script>\n",
              "      const buttonEl =\n",
              "        document.querySelector('#df-d689db63-6431-432d-8f4d-842d67265a29 button.colab-df-convert');\n",
              "      buttonEl.style.display =\n",
              "        google.colab.kernel.accessAllowed ? 'block' : 'none';\n",
              "\n",
              "      async function convertToInteractive(key) {\n",
              "        const element = document.querySelector('#df-d689db63-6431-432d-8f4d-842d67265a29');\n",
              "        const dataTable =\n",
              "          await google.colab.kernel.invokeFunction('convertToInteractive',\n",
              "                                                    [key], {});\n",
              "        if (!dataTable) return;\n",
              "\n",
              "        const docLinkHtml = 'Like what you see? Visit the ' +\n",
              "          '<a target=\"_blank\" href=https://colab.research.google.com/notebooks/data_table.ipynb>data table notebook</a>'\n",
              "          + ' to learn more about interactive tables.';\n",
              "        element.innerHTML = '';\n",
              "        dataTable['output_type'] = 'display_data';\n",
              "        await google.colab.output.renderOutput(dataTable, element);\n",
              "        const docLink = document.createElement('div');\n",
              "        docLink.innerHTML = docLinkHtml;\n",
              "        element.appendChild(docLink);\n",
              "      }\n",
              "    </script>\n",
              "  </div>\n",
              "\n",
              "\n",
              "<div id=\"df-9a4ee875-9144-4ce4-8a88-17c480db0732\">\n",
              "  <button class=\"colab-df-quickchart\" onclick=\"quickchart('df-9a4ee875-9144-4ce4-8a88-17c480db0732')\"\n",
              "            title=\"Suggest charts\"\n",
              "            style=\"display:none;\">\n",
              "\n",
              "<svg xmlns=\"http://www.w3.org/2000/svg\" height=\"24px\"viewBox=\"0 0 24 24\"\n",
              "     width=\"24px\">\n",
              "    <g>\n",
              "        <path d=\"M19 3H5c-1.1 0-2 .9-2 2v14c0 1.1.9 2 2 2h14c1.1 0 2-.9 2-2V5c0-1.1-.9-2-2-2zM9 17H7v-7h2v7zm4 0h-2V7h2v10zm4 0h-2v-4h2v4z\"/>\n",
              "    </g>\n",
              "</svg>\n",
              "  </button>\n",
              "\n",
              "<style>\n",
              "  .colab-df-quickchart {\n",
              "      --bg-color: #E8F0FE;\n",
              "      --fill-color: #1967D2;\n",
              "      --hover-bg-color: #E2EBFA;\n",
              "      --hover-fill-color: #174EA6;\n",
              "      --disabled-fill-color: #AAA;\n",
              "      --disabled-bg-color: #DDD;\n",
              "  }\n",
              "\n",
              "  [theme=dark] .colab-df-quickchart {\n",
              "      --bg-color: #3B4455;\n",
              "      --fill-color: #D2E3FC;\n",
              "      --hover-bg-color: #434B5C;\n",
              "      --hover-fill-color: #FFFFFF;\n",
              "      --disabled-bg-color: #3B4455;\n",
              "      --disabled-fill-color: #666;\n",
              "  }\n",
              "\n",
              "  .colab-df-quickchart {\n",
              "    background-color: var(--bg-color);\n",
              "    border: none;\n",
              "    border-radius: 50%;\n",
              "    cursor: pointer;\n",
              "    display: none;\n",
              "    fill: var(--fill-color);\n",
              "    height: 32px;\n",
              "    padding: 0;\n",
              "    width: 32px;\n",
              "  }\n",
              "\n",
              "  .colab-df-quickchart:hover {\n",
              "    background-color: var(--hover-bg-color);\n",
              "    box-shadow: 0 1px 2px rgba(60, 64, 67, 0.3), 0 1px 3px 1px rgba(60, 64, 67, 0.15);\n",
              "    fill: var(--button-hover-fill-color);\n",
              "  }\n",
              "\n",
              "  .colab-df-quickchart-complete:disabled,\n",
              "  .colab-df-quickchart-complete:disabled:hover {\n",
              "    background-color: var(--disabled-bg-color);\n",
              "    fill: var(--disabled-fill-color);\n",
              "    box-shadow: none;\n",
              "  }\n",
              "\n",
              "  .colab-df-spinner {\n",
              "    border: 2px solid var(--fill-color);\n",
              "    border-color: transparent;\n",
              "    border-bottom-color: var(--fill-color);\n",
              "    animation:\n",
              "      spin 1s steps(1) infinite;\n",
              "  }\n",
              "\n",
              "  @keyframes spin {\n",
              "    0% {\n",
              "      border-color: transparent;\n",
              "      border-bottom-color: var(--fill-color);\n",
              "      border-left-color: var(--fill-color);\n",
              "    }\n",
              "    20% {\n",
              "      border-color: transparent;\n",
              "      border-left-color: var(--fill-color);\n",
              "      border-top-color: var(--fill-color);\n",
              "    }\n",
              "    30% {\n",
              "      border-color: transparent;\n",
              "      border-left-color: var(--fill-color);\n",
              "      border-top-color: var(--fill-color);\n",
              "      border-right-color: var(--fill-color);\n",
              "    }\n",
              "    40% {\n",
              "      border-color: transparent;\n",
              "      border-right-color: var(--fill-color);\n",
              "      border-top-color: var(--fill-color);\n",
              "    }\n",
              "    60% {\n",
              "      border-color: transparent;\n",
              "      border-right-color: var(--fill-color);\n",
              "    }\n",
              "    80% {\n",
              "      border-color: transparent;\n",
              "      border-right-color: var(--fill-color);\n",
              "      border-bottom-color: var(--fill-color);\n",
              "    }\n",
              "    90% {\n",
              "      border-color: transparent;\n",
              "      border-bottom-color: var(--fill-color);\n",
              "    }\n",
              "  }\n",
              "</style>\n",
              "\n",
              "  <script>\n",
              "    async function quickchart(key) {\n",
              "      const quickchartButtonEl =\n",
              "        document.querySelector('#' + key + ' button');\n",
              "      quickchartButtonEl.disabled = true;  // To prevent multiple clicks.\n",
              "      quickchartButtonEl.classList.add('colab-df-spinner');\n",
              "      try {\n",
              "        const charts = await google.colab.kernel.invokeFunction(\n",
              "            'suggestCharts', [key], {});\n",
              "      } catch (error) {\n",
              "        console.error('Error during call to suggestCharts:', error);\n",
              "      }\n",
              "      quickchartButtonEl.classList.remove('colab-df-spinner');\n",
              "      quickchartButtonEl.classList.add('colab-df-quickchart-complete');\n",
              "    }\n",
              "    (() => {\n",
              "      let quickchartButtonEl =\n",
              "        document.querySelector('#df-9a4ee875-9144-4ce4-8a88-17c480db0732 button');\n",
              "      quickchartButtonEl.style.display =\n",
              "        google.colab.kernel.accessAllowed ? 'block' : 'none';\n",
              "    })();\n",
              "  </script>\n",
              "</div>\n",
              "\n",
              "    </div>\n",
              "  </div>\n"
            ],
            "text/plain": [
              "    Label\n",
              "Id       \n",
              "0      49\n",
              "1      33\n",
              "2       4\n",
              "3      51\n",
              "4      71"
            ]
          },
          "execution_count": 105,
          "metadata": {},
          "output_type": "execute_result"
        }
      ],
      "source": [
        "df.head()"
      ]
    },
    {
      "cell_type": "code",
      "execution_count": 106,
      "metadata": {
        "execution": {
          "iopub.status.busy": "2024-05-29T13:52:41.344075Z",
          "iopub.status.idle": "2024-05-29T13:52:41.345038Z",
          "shell.execute_reply": "2024-05-29T13:52:41.344774Z",
          "shell.execute_reply.started": "2024-05-29T13:52:41.344749Z"
        },
        "id": "ko0CZb_d-J_m",
        "trusted": true
      },
      "outputs": [],
      "source": [
        "df.to_csv(\"submission.csv\")"
      ]
    },
    {
      "cell_type": "code",
      "execution_count": null,
      "metadata": {
        "id": "F105wz-W-J_m"
      },
      "outputs": [],
      "source": []
    }
  ],
  "metadata": {
    "accelerator": "GPU",
    "colab": {
      "gpuType": "T4",
      "provenance": []
    },
    "kaggle": {
      "accelerator": "none",
      "dataSources": [
        {
          "databundleVersionId": 8490010,
          "sourceId": 77584,
          "sourceType": "competition"
        }
      ],
      "dockerImageVersionId": 30698,
      "isGpuEnabled": false,
      "isInternetEnabled": false,
      "language": "python",
      "sourceType": "notebook"
    },
    "kernelspec": {
      "display_name": "Python 3",
      "name": "python3"
    },
    "language_info": {
      "codemirror_mode": {
        "name": "ipython",
        "version": 3
      },
      "file_extension": ".py",
      "mimetype": "text/x-python",
      "name": "python",
      "nbconvert_exporter": "python",
      "pygments_lexer": "ipython3",
      "version": "3.10.13"
    }
  },
  "nbformat": 4,
  "nbformat_minor": 0
}
